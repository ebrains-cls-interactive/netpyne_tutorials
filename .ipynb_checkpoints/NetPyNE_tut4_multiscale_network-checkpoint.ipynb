{
 "cells": [
  {
   "cell_type": "code",
   "execution_count": null,
   "metadata": {
    "colab": {
     "base_uri": "https://localhost:8080/"
    },
    "executionInfo": {
     "elapsed": 9373,
     "status": "ok",
     "timestamp": 1622092945104,
     "user": {
      "displayName": "Samuel Bolland",
      "photoUrl": "https://lh3.googleusercontent.com/a-/AOh14GjhWpP7mf88kT980MPiR0spUh3By9DWIm5EYVUoaA=s64",
      "userId": "06928499349223853710"
     },
     "user_tz": -480
    },
    "id": "V0cRyhp8YWl2",
    "outputId": "7ce06ab2-358b-4748-c324-30d36ee2ab1c"
   },
   "outputs": [
    {
     "name": "stdout",
     "output_type": "stream",
     "text": [
      "Defaulting to user installation because normal site-packages is not writeable\n",
      "Requirement already satisfied: neuron in /srv/main-spack-instance/spack/opt/spack/linux-centos7-broadwell/gcc-10.3.0/neuron-8.0.0-gtdly3adr45rzebkpfszgcvfjzehshnc/lib/python (8.0)\n",
      "Defaulting to user installation because normal site-packages is not writeable\n",
      "Requirement already satisfied: netpyne in /opt/app-root/src/.local/lib/python3.8/site-packages (1.0.2.1)\n",
      "Requirement already satisfied: scipy in /srv/main-spack-instance/spack/var/spack/environments/release_v0_1_202109_hotfix/.spack-env/._view/dub5e66xcwcza7xt4sksbqnqsaowrn2n/lib/python3.8/site-packages (from netpyne) (1.7.1)\n",
      "Requirement already satisfied: matplotlib in /srv/main-spack-instance/spack/var/spack/environments/release_v0_1_202109_hotfix/.spack-env/._view/dub5e66xcwcza7xt4sksbqnqsaowrn2n/lib/python3.8/site-packages (from netpyne) (3.3.4)\n",
      "Requirement already satisfied: bokeh in /usr/local/lib/python3.8/dist-packages (from netpyne) (2.4.2)\n",
      "Requirement already satisfied: matplotlib-scalebar in /opt/app-root/src/.local/lib/python3.8/site-packages (from netpyne) (0.8.1)\n",
      "Requirement already satisfied: numpy in /srv/main-spack-instance/spack/var/spack/environments/release_v0_1_202109_hotfix/.spack-env/._view/dub5e66xcwcza7xt4sksbqnqsaowrn2n/lib/python3.8/site-packages (from netpyne) (1.20.2)\n",
      "Requirement already satisfied: lfpykit in /opt/app-root/src/.local/lib/python3.8/site-packages (from netpyne) (0.4)\n",
      "Requirement already satisfied: future in /usr/local/lib/python3.8/dist-packages (from netpyne) (0.18.2)\n",
      "Requirement already satisfied: pandas in /srv/main-spack-instance/spack/var/spack/environments/release_v0_1_202109_hotfix/.spack-env/._view/dub5e66xcwcza7xt4sksbqnqsaowrn2n/lib/python3.8/site-packages (from netpyne) (1.3.3)\n",
      "Requirement already satisfied: schema in /opt/app-root/src/.local/lib/python3.8/site-packages (from netpyne) (0.7.5)\n",
      "Requirement already satisfied: pillow>=7.1.0 in /srv/main-spack-instance/spack/var/spack/environments/release_v0_1_202109_hotfix/.spack-env/._view/dub5e66xcwcza7xt4sksbqnqsaowrn2n/lib/python3.8/site-packages (from bokeh->netpyne) (8.0.0)\n",
      "Requirement already satisfied: tornado>=5.1 in /srv/main-spack-instance/spack/var/spack/environments/release_v0_1_202109_hotfix/.spack-env/._view/dub5e66xcwcza7xt4sksbqnqsaowrn2n/lib/python3.8/site-packages (from bokeh->netpyne) (6.1)\n",
      "Requirement already satisfied: PyYAML>=3.10 in /srv/main-spack-instance/spack/opt/spack/linux-centos7-broadwell/gcc-10.3.0/py-pyyaml-5.3.1-l5ht2uvcr6tvxqwzzkrsxjjoy4ibeubd/lib/python3.8/site-packages (from bokeh->netpyne) (5.3.1)\n",
      "Requirement already satisfied: packaging>=16.8 in /srv/main-spack-instance/spack/var/spack/environments/release_v0_1_202109_hotfix/.spack-env/._view/dub5e66xcwcza7xt4sksbqnqsaowrn2n/lib/python3.8/site-packages (from bokeh->netpyne) (21.0)\n",
      "Requirement already satisfied: typing-extensions>=3.10.0 in /usr/local/lib/python3.8/dist-packages (from bokeh->netpyne) (4.1.1)\n",
      "Requirement already satisfied: Jinja2>=2.9 in /srv/main-spack-instance/spack/var/spack/environments/release_v0_1_202109_hotfix/.spack-env/._view/dub5e66xcwcza7xt4sksbqnqsaowrn2n/lib/python3.8/site-packages (from bokeh->netpyne) (3.0.1)\n",
      "Requirement already satisfied: MarkupSafe>=2.0 in /srv/main-spack-instance/spack/var/spack/environments/release_v0_1_202109_hotfix/.spack-env/._view/dub5e66xcwcza7xt4sksbqnqsaowrn2n/lib/python3.8/site-packages (from Jinja2>=2.9->bokeh->netpyne) (2.0.1)\n",
      "Requirement already satisfied: pyparsing>=2.0.2 in /srv/main-spack-instance/spack/var/spack/environments/release_v0_1_202109_hotfix/.spack-env/._view/dub5e66xcwcza7xt4sksbqnqsaowrn2n/lib/python3.8/site-packages (from packaging>=16.8->bokeh->netpyne) (2.4.7)\n",
      "Requirement already satisfied: meautility in /opt/app-root/src/.local/lib/python3.8/site-packages (from lfpykit->netpyne) (1.5.1)\n",
      "Requirement already satisfied: cycler>=0.10 in /srv/main-spack-instance/spack/var/spack/environments/release_v0_1_202109_hotfix/.spack-env/._view/dub5e66xcwcza7xt4sksbqnqsaowrn2n/lib/python3.8/site-packages (from matplotlib->netpyne) (0.10.0)\n",
      "Requirement already satisfied: kiwisolver>=1.0.1 in /srv/main-spack-instance/spack/var/spack/environments/release_v0_1_202109_hotfix/.spack-env/._view/dub5e66xcwcza7xt4sksbqnqsaowrn2n/lib/python3.8/site-packages (from matplotlib->netpyne) (1.1.0)\n",
      "Requirement already satisfied: python-dateutil>=2.1 in /srv/main-spack-instance/spack/var/spack/environments/release_v0_1_202109_hotfix/.spack-env/._view/dub5e66xcwcza7xt4sksbqnqsaowrn2n/lib/python3.8/site-packages (from matplotlib->netpyne) (2.8.2)\n",
      "Requirement already satisfied: six in /srv/main-spack-instance/spack/var/spack/environments/release_v0_1_202109_hotfix/.spack-env/._view/dub5e66xcwcza7xt4sksbqnqsaowrn2n/lib/python3.8/site-packages (from cycler>=0.10->matplotlib->netpyne) (1.16.0)\n",
      "Requirement already satisfied: setuptools in /srv/main-spack-instance/spack/var/spack/environments/release_v0_1_202109_hotfix/.spack-env/._view/dub5e66xcwcza7xt4sksbqnqsaowrn2n/lib/python3.8/site-packages (from kiwisolver>=1.0.1->matplotlib->netpyne) (57.4.0)\n",
      "Requirement already satisfied: pytz>=2017.3 in /srv/main-spack-instance/spack/var/spack/environments/release_v0_1_202109_hotfix/.spack-env/._view/dub5e66xcwcza7xt4sksbqnqsaowrn2n/lib/python3.8/site-packages (from pandas->netpyne) (2021.1)\n",
      "Requirement already satisfied: contextlib2>=0.5.5 in /opt/app-root/src/.local/lib/python3.8/site-packages (from schema->netpyne) (21.6.0)\n"
     ]
    }
   ],
   "source": [
    "!pip install neuron\n",
    "!pip install netpyne\n",
    "import matplotlib\n",
    "%matplotlib inline"
   ]
  },
  {
   "cell_type": "code",
   "execution_count": 2,
   "metadata": {
    "colab": {
     "base_uri": "https://localhost:8080/"
    },
    "executionInfo": {
     "elapsed": 9373,
     "status": "ok",
     "timestamp": 1622092945104,
     "user": {
      "displayName": "Samuel Bolland",
      "photoUrl": "https://lh3.googleusercontent.com/a-/AOh14GjhWpP7mf88kT980MPiR0spUh3By9DWIm5EYVUoaA=s64",
      "userId": "06928499349223853710"
     },
     "user_tz": -480
    },
    "id": "V0cRyhp8YWl2",
    "outputId": "7ce06ab2-358b-4748-c324-30d36ee2ab1c"
   },
   "outputs": [
    {
     "name": "stdout",
     "output_type": "stream",
     "text": [
      "/mnt/user/shared/netpyne ebrains 2022 test/CLS-INTERACTIVE-UC/netpyne_tutorials\n",
      "Mod files: \"mod/A.mod\" \"mod/AMPA.mod\" \"mod/ElectSyn.mod\" \"mod/GABAa.mod\" \"mod/IC.mod\" \"mod/MyExp2SynBB.mod\" \"mod/MyExp2SynNMDABB.mod\" \"mod/NMDA.mod\" \"mod/Nca.mod\" \"mod/OFThpo.mod\" \"mod/OFThresh.mod\" \"mod/ar.mod\" \"mod/cad.mod\" \"mod/cadad.mod\" \"mod/cagk.mod\" \"mod/cal_mig.mod\" \"mod/can_mig.mod\" \"mod/cat_mig.mod\" \"mod/expsynstdp.mod\" \"mod/h_kole.mod\" \"mod/h_migliore.mod\" \"mod/ican_sidi.mod\" \"mod/iholmw.mod\" \"mod/izhi2003a.mod\" \"mod/izhi2003b.mod\" \"mod/izhi2007a.mod\" \"mod/izhi2007b.mod\" \"mod/k2.mod\" \"mod/kBK.mod\" \"mod/ka.mod\" \"mod/kacurrent.mod\" \"mod/kahp.mod\" \"mod/kap_BS.mod\" \"mod/kc.mod\" \"mod/kca.mod\" \"mod/kdmc_BS.mod\" \"mod/kdr_BS.mod\" \"mod/kdrcurrent.mod\" \"mod/km.mod\" \"mod/km2.mod\" \"mod/kv.mod\" \"mod/nacurrent.mod\" \"mod/naf.mod\" \"mod/nap.mod\" \"mod/nax_BS.mod\" \"mod/naz.mod\" \"mod/savedist.mod\" \"mod/vecevent.mod\"\n",
      "\n",
      "COBJS=''\n",
      " -> \u001b[32mCompiling\u001b[0m mod_func.c\n",
      " => \u001b[32mLINKING\u001b[0m shared library ./libnrnmech.so\n",
      "Successfully created x86_64/special\n"
     ]
    }
   ],
   "source": [
    "!nrnivmodl mod"
   ]
  },
  {
   "cell_type": "code",
   "execution_count": null,
   "metadata": {
    "colab": {
     "base_uri": "https://localhost:8080/",
     "height": 1000
    },
    "executionInfo": {
     "elapsed": 5480,
     "status": "ok",
     "timestamp": 1621462283899,
     "user": {
      "displayName": "Salvador Dura-Bernal",
      "photoUrl": "",
      "userId": "10473966374056868820"
     },
     "user_tz": 240
    },
    "id": "f0P--qg5YUT6",
    "outputId": "a0d41a9f-ac05-434f-dc1f-2182ad919206"
   },
   "outputs": [
    {
     "ename": "TypeError",
     "evalue": "'bool' object is not callable",
     "output_type": "error",
     "traceback": [
      "\u001b[0;31m---------------------------------------------------------------------------\u001b[0m",
      "\u001b[0;31mTypeError\u001b[0m                                 Traceback (most recent call last)",
      "\u001b[0;32m/tmp/ipykernel_7957/114039125.py\u001b[0m in \u001b[0;36m<module>\u001b[0;34m\u001b[0m\n\u001b[1;32m     87\u001b[0m \u001b[0;34m\u001b[0m\u001b[0m\n\u001b[1;32m     88\u001b[0m \u001b[0msimConfig\u001b[0m\u001b[0;34m.\u001b[0m\u001b[0mrecordLFP\u001b[0m \u001b[0;34m=\u001b[0m \u001b[0;34m[\u001b[0m\u001b[0;34m[\u001b[0m\u001b[0;34m-\u001b[0m\u001b[0;36m15\u001b[0m\u001b[0;34m,\u001b[0m \u001b[0my\u001b[0m\u001b[0;34m,\u001b[0m \u001b[0;36m1.0\u001b[0m\u001b[0;34m*\u001b[0m\u001b[0mnetParams\u001b[0m\u001b[0;34m.\u001b[0m\u001b[0msizeZ\u001b[0m\u001b[0;34m]\u001b[0m \u001b[0;32mfor\u001b[0m \u001b[0my\u001b[0m \u001b[0;32min\u001b[0m \u001b[0mrange\u001b[0m\u001b[0;34m(\u001b[0m\u001b[0mint\u001b[0m\u001b[0;34m(\u001b[0m\u001b[0mnetParams\u001b[0m\u001b[0;34m.\u001b[0m\u001b[0msizeY\u001b[0m\u001b[0;34m/\u001b[0m\u001b[0;36m3\u001b[0m\u001b[0;34m)\u001b[0m\u001b[0;34m,\u001b[0m \u001b[0mint\u001b[0m\u001b[0;34m(\u001b[0m\u001b[0mnetParams\u001b[0m\u001b[0;34m.\u001b[0m\u001b[0msizeY\u001b[0m\u001b[0;34m)\u001b[0m\u001b[0;34m,\u001b[0m \u001b[0mint\u001b[0m\u001b[0;34m(\u001b[0m\u001b[0mnetParams\u001b[0m\u001b[0;34m.\u001b[0m\u001b[0msizeY\u001b[0m\u001b[0;34m/\u001b[0m\u001b[0;36m3\u001b[0m\u001b[0;34m)\u001b[0m\u001b[0;34m)\u001b[0m\u001b[0;34m]\u001b[0m\u001b[0;34m\u001b[0m\u001b[0;34m\u001b[0m\u001b[0m\n\u001b[0;32m---> 89\u001b[0;31m \u001b[0msimConfig\u001b[0m\u001b[0;34m.\u001b[0m\u001b[0mrecordDipole\u001b[0m\u001b[0;34m(\u001b[0m\u001b[0;34m)\u001b[0m\u001b[0;34m\u001b[0m\u001b[0;34m\u001b[0m\u001b[0m\n\u001b[0m\u001b[1;32m     90\u001b[0m \u001b[0;34m\u001b[0m\u001b[0m\n\u001b[1;32m     91\u001b[0m \u001b[0msimConfig\u001b[0m\u001b[0;34m.\u001b[0m\u001b[0manalysis\u001b[0m\u001b[0;34m[\u001b[0m\u001b[0;34m'iplotTraces'\u001b[0m\u001b[0;34m]\u001b[0m \u001b[0;34m=\u001b[0m\u001b[0;34m{\u001b[0m\u001b[0;34m'include'\u001b[0m\u001b[0;34m:\u001b[0m \u001b[0;34m[\u001b[0m\u001b[0;36m0\u001b[0m\u001b[0;34m]\u001b[0m\u001b[0;34m}\u001b[0m\u001b[0;34m\u001b[0m\u001b[0;34m\u001b[0m\u001b[0m\n",
      "\u001b[0;31mTypeError\u001b[0m: 'bool' object is not callable"
     ]
    }
   ],
   "source": [
    "%matplotlib inline\n",
    "from netpyne import specs\n",
    "\n",
    "\n",
    "#------------------------------------------------------------------------------\n",
    "#\n",
    "# NETWORK PARAMETERS\n",
    "#\n",
    "#------------------------------------------------------------------------------\n",
    "\n",
    "netParams = specs.NetParams()  # object of class NetParams to store the network parameters\n",
    "\n",
    "netParams.sizeX = 100 # x-dimension (horizontal length) size in um\n",
    "netParams.sizeY = 500 # y-dimension (vertical height or cortical depth) size in um\n",
    "netParams.sizeZ = 100 # z-dimension (horizontal length) size in um\n",
    "netParams.propVelocity = 100.0 # propagation velocity (um/ms)\n",
    "netParams.probLengthConst = 150.0 # length constant for conn probability (um)\n",
    "\n",
    "#------------------------------------------------------------------------------\n",
    "## Cell parameters\n",
    "netParams.loadCellParams(label='E', fileName='cells/CSTR_cellParams.json')\n",
    "netParams.importCellParams(label='I', fileName='cells/FScell.hoc', cellName='FScell')\n",
    "\n",
    "\n",
    "#------------------------------------------------------------------------------\n",
    "## Population parameters\n",
    "netParams.popParams['E2'] = {'cellType': 'E', 'numCells': 10, 'yRange': [50,150]}\n",
    "netParams.popParams['I2'] = {'cellType': 'I', 'numCells': 10, 'yRange': [50,150]}\n",
    "netParams.popParams['E4'] = {'cellType': 'E', 'numCells': 10, 'yRange': [150,300]}\n",
    "netParams.popParams['I4'] = {'cellType': 'I', 'numCells': 10, 'yRange': [150,300]}\n",
    "netParams.popParams['E5'] = {'cellType': 'E', 'numCells': 10, 'ynormRange': [0.6,1.0]}\n",
    "netParams.popParams['I5'] = {'cellType': 'I', 'numCells': 10, 'ynormRange': [0.6,1.0]}\n",
    "\n",
    "#------------------------------------------------------------------------------\n",
    "## Synaptic mechanism parameters\n",
    "netParams.synMechParams['exc'] = {'mod': 'Exp2Syn', 'tau1': 0.8, 'tau2': 5.3, 'e': 0}  # NMDA synaptic mechanism\n",
    "netParams.synMechParams['inh'] = {'mod': 'Exp2Syn', 'tau1': 0.6, 'tau2': 8.5, 'e': -75}  # GABA synaptic mechanism\n",
    "\n",
    "#------------------------------------------------------------------------------\n",
    "# Stimulation parameters\n",
    "netParams.stimSourceParams['bkg'] = {'type': 'NetStim', 'rate': 20, 'noise': 0.3}\n",
    "netParams.stimTargetParams['bkg->E'] = {'source': 'bkg', 'conds': {'cellType': ['E']}, 'weight': 0.02, 'sec': 'soma', 'delay': 'max(1, normal(5,2))', 'synMech': 'exc'}\n",
    "netParams.stimTargetParams['bkg->I'] = {'source': 'bkg', 'conds': {'cellType': ['I']}, 'weight': 0.004, 'sec': 'soma', 'delay': 'max(1, normal(5,2))', 'synMech': 'exc'}\n",
    "\n",
    "#------------------------------------------------------------------------------\n",
    "# Cell connectivity rules\n",
    "netParams.connParams['E->all'] = {\n",
    "  'preConds': {'cellType': 'E'}, \n",
    "  'postConds': {'y': [50,500]},  #  E -> all (100-1000 um)\n",
    "  'probability': 0.1,                  # probability of connection\n",
    "  'weight': '0.04*post_ynorm',         # synaptic weight \n",
    "  'delay': 'dist_3D/propVelocity',      # transmission delay (ms) \n",
    "  'synMech': 'exc'}                     # synaptic mechanism \n",
    "\n",
    "netParams.connParams['I->E'] = {\n",
    "  'preConds': {'cellType': 'I'}, \n",
    "  'postConds': {'pop': ['E2','E4','E5']},       #  I -> E\n",
    "  'probability': '0.3*exp(-dist_3D/probLengthConst)',   # probability of connection\n",
    "  'weight': 0.01,                                      # synaptic weight \n",
    "  'delay': 'dist_3D/propVelocity',                      # transmission delay (ms) \n",
    "  'sec': ['soma','Bdend'], \n",
    "  'synMech': 'inh'}                                     # synaptic mechanism \n",
    "\n",
    "\n",
    "\n",
    "#------------------------------------------------------------------------------\n",
    "## RxD params\n",
    "\n",
    "### constants\n",
    "\n",
    "## Change ip3_init from 0 to 0.1 to observe multiscale effect:  \n",
    "## netParams.rxdParams['constants']['ip3_init'] = 0.1\n",
    "## high ip3 -> ER Ca released to Cyt -> kBK channels open -> less firing \n",
    "\n",
    "constants = {'ip3_init': 0.0,  # initial ip3 concentration \n",
    "            'caDiff': 0.08,  # calcium diffusion coefficient\n",
    "            'ip3Diff': 1.41,  # ip3 diffusion coefficient\n",
    "            'caci_init': 1e-5,  # intracellular calcium initial concentration\n",
    "            'caco_init': 2.0,   # extracellular calcium initial concentration\n",
    "            'gip3r': 12040 * 100,  # ip3 receptors density\n",
    "            'gserca': 0.3913,  # SERCA conductance\n",
    "            'gleak': 6.020,   # ER leak channel conductance\n",
    "            'kserca': 0.1,  # SERCA reaction constant\n",
    "            'kip3': 0.15,  # ip3 reaction constant\n",
    "            'kact': 0.4,  #\n",
    "            'ip3rtau': 2000,  # ip3 receptors time constant\n",
    "            'fc': 0.8,  # fraction of cytosol\n",
    "            'fe': 0.2,  # fraction of ER\n",
    "            'margin': 20}  # extracellular volume additional margin \n",
    "\n",
    "netParams.rxdParams['constants'] = constants\n",
    "\n",
    "### regions\n",
    "regions = {}\n",
    "regions['cyt'] = {'cells': 'all', 'secs': 'all', 'nrn_region': 'i', 'geometry': {'class': 'FractionalVolume', 'args': {'volume_fraction': constants['fc'], 'surface_fraction': 1}}}\n",
    "regions['er'] = {'cells': 'all', 'secs': 'all', 'geometry': {'class': 'FractionalVolume', 'args': {'volume_fraction': constants['fe']}}}\n",
    "regions['cyt_er_membrane'] = {'cells': 'all', 'secs': 'all', 'geometry': {'class': 'ScalableBorder', 'args': {'scale': 1, 'on_cell_surface': False}}}\n",
    "\n",
    "margin = 20  # extracellular volume additional margin \n",
    "x, y, z = [0-margin, 100+margin], [-500-margin, 0+margin], [0-margin, 100+margin]\n",
    "regions['ecs'] = {'extracellular': True, 'xlo': x[0], 'ylo': y[0], 'zlo': z[0], 'xhi': x[1], 'yhi': y[1], 'zhi': z[1], 'dx': 5, 'volume_fraction': 0.2, 'tortuosity': 1.6} \n",
    "\n",
    "netParams.rxdParams['regions'] = regions\n",
    "\n",
    "### species \n",
    "species = {}\n",
    "species['ca'] = {'regions': ['cyt', 'er', 'ecs'], 'd': constants['caDiff'], 'charge': 2,\n",
    "                'initial': 'caco_init if isinstance(node,rxd.node.NodeExtracellular) else (0.0017 - caci_init * fc) / fe if node.region == er else caci_init'}\n",
    "species['ip3'] = {'regions': ['cyt'], 'd': constants['ip3Diff'], 'initial': constants['ip3_init']}\n",
    "netParams.rxdParams['species'] = species\n",
    "\n",
    "### states\n",
    "netParams.rxdParams['states'] = {'ip3r_gate_state': {'regions': ['cyt_er_membrane'], 'initial': 0.8}}\n",
    "\n",
    "### reactions\n",
    "minf = 'ip3[cyt] * 1000. * ca[cyt] / (ip3[cyt] + kip3) / (1000. * ca[cyt] + kact)'\n",
    "h_gate = 'ip3r_gate_state[cyt_er_membrane]'\n",
    "kip3 = 'gip3r * (%s * %s) ** 3' % (minf, h_gate)\n",
    "\n",
    "mcReactions = {}\n",
    "mcReactions['serca'] = {'reactant': 'ca[cyt]', 'product': 'ca[er]', 'rate_f': 'gserca / ((kserca / (1000. * ca[cyt])) ** 2 + 1)', 'membrane': 'cyt_er_membrane', 'custom_dynamics': True}\n",
    "mcReactions['leak'] = {'reactant': 'ca[er]', 'product': 'ca[cyt]', 'rate_f': constants['gleak'], 'rate_b': constants['gleak'], 'membrane': 'cyt_er_membrane'}\n",
    "mcReactions['ip3r'] = {'reactant': 'ca[er]', 'product': 'ca[cyt]', 'rate_f': kip3, 'rate_b': kip3, 'membrane': 'cyt_er_membrane'}\n",
    "netParams.rxdParams['multicompartmentReactions'] = mcReactions\n",
    "\n",
    "### rates\n",
    "netParams.rxdParams['rates'] = {'ip3rg': {'species': h_gate, 'rate': '(1. / (1 + 1000. * ca[cyt] / (0.3)) - %s) / ip3rtau'%(h_gate)}}\n",
    "\n",
    "\n",
    "\n",
    "\n",
    "#------------------------------------------------------------------------------\n",
    "#\n",
    "# SIMULATION CONFIGURATION\n",
    "#\n",
    "#------------------------------------------------------------------------------\n",
    "\n",
    "# Run parameters\n",
    "simConfig = specs.SimConfig()       # object of class simConfig to store simulation configuration\n",
    "simConfig.duration = 1.0*1e3        # Duration of the simulation, in ms\n",
    "simConfig.hParams['v_init'] = -65   # set v_init to -65 mV\n",
    "simConfig.dt = 0.1                  # Internal integration timestep to use\n",
    "simConfig.verbose = False            # Show detailed messages \n",
    "simConfig.recordStep = 1             # Step size in ms to save data (eg. V traces, LFP, etc)\n",
    "simConfig.filename = 'rxd_net'   # Set file output name\n",
    "\n",
    "\n",
    "# Recording/plotting parameters\n",
    "simConfig.recordTraces = {'V_soma':{'sec': 'soma','loc': 0.5,'var': 'v'},\n",
    "                          'ik_soma': {'sec': 'soma', 'loc': 0.5, 'var': 'ik'},\n",
    "                          'cai_soma': {'sec': 'soma', 'loc':0.5, 'var': 'cai'},\n",
    "                          'cao_soma': {'sec': 'soma', 'loc': 0.5, 'var': 'cao'}}\n",
    "\n",
    "simConfig.recordLFP = [[-15, y, 1.0*netParams.sizeZ] for y in range(int(netParams.sizeY/3), int(netParams.sizeY), int(netParams.sizeY/3))]\n",
    "simConfig.recordDipole()\n",
    "\n",
    "simConfig.analysis['iplotTraces'] ={'include': [0]}\n",
    "simConfig.analysis['iplotRaster'] = {'orderBy': 'y', 'orderInverse': True, 'saveFig': True, 'figSize': (9,3)}      # Plot a raster\n",
    "simConfig.analysis['iplotLFP'] = {'includeAxon': False, 'figSize': (6,10), 'saveFig': True} \n",
    "simConfig.analysis['iplotRxDConcentration'] = {'speciesLabel': 'ca', 'regionLabel': 'ecs'}\n",
    "\n",
    "\n",
    "#from netpyne import sim\n",
    "sim.createSimulateAnalyze(netParams, simConfig)"
   ]
  },
  {
   "cell_type": "code",
   "execution_count": null,
   "metadata": {
    "colab": {
     "base_uri": "https://localhost:8080/",
     "height": 1000
    },
    "executionInfo": {
     "elapsed": 5480,
     "status": "ok",
     "timestamp": 1621462283899,
     "user": {
      "displayName": "Salvador Dura-Bernal",
      "photoUrl": "",
      "userId": "10473966374056868820"
     },
     "user_tz": 240
    },
    "id": "f0P--qg5YUT6",
    "outputId": "a0d41a9f-ac05-434f-dc1f-2182ad919206"
   },
   "outputs": [],
   "source": [
    "sim.plotting.plotLFPTimeSeries()"
   ]
  },
  {
   "cell_type": "code",
   "execution_count": null,
   "metadata": {
    "colab": {
     "base_uri": "https://localhost:8080/",
     "height": 1000
    },
    "executionInfo": {
     "elapsed": 5480,
     "status": "ok",
     "timestamp": 1621462283899,
     "user": {
      "displayName": "Salvador Dura-Bernal",
      "photoUrl": "",
      "userId": "10473966374056868820"
     },
     "user_tz": 240
    },
    "id": "f0P--qg5YUT6",
    "outputId": "a0d41a9f-ac05-434f-dc1f-2182ad919206"
   },
   "outputs": [],
   "source": [
    "sim.plotting.plotLFPSpectrogram(electrodes=['avg'])"
   ]
  },
  {
   "cell_type": "code",
   "execution_count": null,
   "metadata": {
    "colab": {
     "base_uri": "https://localhost:8080/",
     "height": 1000
    },
    "executionInfo": {
     "elapsed": 5480,
     "status": "ok",
     "timestamp": 1621462283899,
     "user": {
      "displayName": "Salvador Dura-Bernal",
      "photoUrl": "",
      "userId": "10473966374056868820"
     },
     "user_tz": 240
    },
    "id": "f0P--qg5YUT6",
    "outputId": "a0d41a9f-ac05-434f-dc1f-2182ad919206"
   },
   "outputs": [],
   "source": [
    "sim.analysis.plotDipole()"
   ]
  },
  {
   "cell_type": "code",
   "execution_count": null,
   "metadata": {
    "colab": {
     "base_uri": "https://localhost:8080/",
     "height": 1000
    },
    "executionInfo": {
     "elapsed": 5480,
     "status": "ok",
     "timestamp": 1621462283899,
     "user": {
      "displayName": "Salvador Dura-Bernal",
      "photoUrl": "",
      "userId": "10473966374056868820"
     },
     "user_tz": 240
    },
    "id": "f0P--qg5YUT6",
    "outputId": "a0d41a9f-ac05-434f-dc1f-2182ad919206"
   },
   "outputs": [],
   "source": [
    "sim.analysis.plotEEG()"
   ]
  },
  {
   "cell_type": "markdown",
   "metadata": {
    "id": "P8deeT59anO8"
   },
   "source": [
    "Try changing the 'ip3_init' concentration to 0.1 and checking the effect it has on LFP and EEG. \n",
    "\n",
    "This demonstrates the effects of changes at the molecular scale affect the cellular and circuit scales, and are reflected in large-scale recording modalities (LFP, EEG). "
   ]
  }
 ],
 "metadata": {
  "colab": {
   "collapsed_sections": [],
   "name": "tut_netpyne_osc_start.ipynb",
   "provenance": []
  },
  "kernelspec": {
   "display_name": "EBRAINS_release_v0.1_202109",
   "language": "python",
   "name": "spack_python_kernel_release_20210930"
  },
  "language_info": {
   "codemirror_mode": {
    "name": "ipython",
    "version": 3
   },
   "file_extension": ".py",
   "mimetype": "text/x-python",
   "name": "python",
   "nbconvert_exporter": "python",
   "pygments_lexer": "ipython3",
   "version": "3.8.11"
  }
 },
 "nbformat": 4,
 "nbformat_minor": 4
}
