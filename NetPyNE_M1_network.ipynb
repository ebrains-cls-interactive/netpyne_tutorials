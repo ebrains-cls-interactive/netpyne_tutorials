{
  "nbformat": 4,
  "nbformat_minor": 5,
  "metadata": {
    "kernelspec": {
      "display_name": "Python 3",
      "language": "python",
      "name": "python3"
    },
    "language_info": {
      "codemirror_mode": {
        "name": "ipython",
        "version": 3
      },
      "file_extension": ".py",
      "mimetype": "text/x-python",
      "name": "python",
      "nbconvert_exporter": "python",
      "pygments_lexer": "ipython3",
      "version": "3.6.9"
    },
    "colab": {
      "name": "NetPyNE_EBRAINS_M1_network.ipynb",
      "provenance": []
    }
  },
  "cells": [
    {
      "cell_type": "markdown",
      "metadata": {
        "id": "FBAZ37ze21G3"
      },
      "source": [
        "# NetPyNE EBRAINS M1 Network\n",
        "\n",
        "This notebook will create and simulate a data-driven, biophysically detailed, multiscale model of mouse primary motor cortex (M1).  The full-scale model includes over 10,000 neurons and 35 million synapses, but the model in this notebook is reduced to 1% of that cell density.\n",
        "\n",
        "See a pre-print describing this model here: [Multiscale dynamics and information flow in a data-driven model of the primary motor cortex microcircuit](https://www.biorxiv.org/content/10.1101/201707v4)."
      ],
      "id": "FBAZ37ze21G3"
    },
    {
      "cell_type": "markdown",
      "metadata": {
        "id": "8eTwrgWV3Q7D"
      },
      "source": [
        "First we'll install NEURON and NetPyNE."
      ],
      "id": "8eTwrgWV3Q7D"
    },
    {
      "cell_type": "code",
      "metadata": {
        "id": "08f61531"
      },
      "source": [
        "!pip install neuron\n",
        "!pip install netpyne"
      ],
      "id": "08f61531",
      "execution_count": null,
      "outputs": []
    },
    {
      "cell_type": "markdown",
      "metadata": {
        "id": "haGB8jVV3VhZ"
      },
      "source": [
        "Now we will get a copy of the M1 model by cloning the NetPyNE GitHub repo and copying the `M1detailed` directory into the current working directory."
      ],
      "id": "haGB8jVV3VhZ"
    },
    {
      "cell_type": "code",
      "metadata": {
        "id": "108ffb53"
      },
      "source": [
        "!git clone https://github.com/Neurosim-lab/netpyne.git"
      ],
      "id": "108ffb53",
      "execution_count": null,
      "outputs": []
    },
    {
      "cell_type": "code",
      "metadata": {
        "id": "e2d2a7f2"
      },
      "source": [
        "!cp -r netpyne/examples/M1detailed/ ."
      ],
      "id": "e2d2a7f2",
      "execution_count": null,
      "outputs": []
    },
    {
      "cell_type": "code",
      "metadata": {
        "id": "_8S59xki3Dr2"
      },
      "source": [
        "cd M1detailed"
      ],
      "id": "_8S59xki3Dr2",
      "execution_count": null,
      "outputs": []
    },
    {
      "cell_type": "markdown",
      "metadata": {
        "id": "D-k60sG_3ont"
      },
      "source": [
        "Then we will compile the NEURON mechanisms, which are stored in the `mod` directory."
      ],
      "id": "D-k60sG_3ont"
    },
    {
      "cell_type": "code",
      "metadata": {
        "id": "635b26aa"
      },
      "source": [
        "!nrnivmodl mod"
      ],
      "id": "635b26aa",
      "execution_count": null,
      "outputs": []
    },
    {
      "cell_type": "markdown",
      "metadata": {
        "id": "QtX2OZvK48-G"
      },
      "source": [
        "This is a highly complex model, so it is split into multiple files.  The NEURON mechanisms are stored in `mod`, the cell models are stored in `cells`, and the connectivity is stored in `conn`.  The network parameters are in `netParams.py`, the simulation configuration is in `cfg.py`, and the commands to create, simulate, and analyze the model are in `init.py`."
      ],
      "id": "QtX2OZvK48-G"
    },
    {
      "cell_type": "markdown",
      "metadata": {
        "id": "wfSu75p-6IPu"
      },
      "source": [
        "Executing `init.py` will run the simulation, but here we will just reproduce the commands.  "
      ],
      "id": "wfSu75p-6IPu"
    },
    {
      "cell_type": "code",
      "metadata": {
        "id": "WmVWj_zqCy1e"
      },
      "source": [
        "from netpyne import sim\n",
        "from cfg import cfg\n",
        "from netParams import netParams"
      ],
      "id": "WmVWj_zqCy1e",
      "execution_count": null,
      "outputs": []
    },
    {
      "cell_type": "markdown",
      "metadata": {
        "id": "PSTUjiHB6_Gx"
      },
      "source": [
        "Entering `%matplotlib online` allows figures to be displayed directly in this notebook, but it must be entered after importing NetPyNE."
      ],
      "id": "PSTUjiHB6_Gx"
    },
    {
      "cell_type": "code",
      "metadata": {
        "id": "02bb73a8"
      },
      "source": [
        "%matplotlib inline"
      ],
      "id": "02bb73a8",
      "execution_count": null,
      "outputs": []
    },
    {
      "cell_type": "markdown",
      "metadata": {
        "id": "Qp7rGO3gKQnt"
      },
      "source": [
        "The next command will create, simulate, and analyze the model.  This is a large, detailed model and it may take up to 10 minutes to complete the simulation.  "
      ],
      "id": "Qp7rGO3gKQnt"
    },
    {
      "cell_type": "code",
      "metadata": {
        "id": "e6524677"
      },
      "source": [
        "sim.createSimulateAnalyze(netParams, cfg)"
      ],
      "id": "e6524677",
      "execution_count": null,
      "outputs": []
    },
    {
      "cell_type": "markdown",
      "metadata": {
        "id": "X7_QFCVrKit2"
      },
      "source": [
        "When complete, you should see a variety of analysis figures specified in the configuration.  At this point, you can further explore the simulation.\n",
        "\n",
        "See the documentation for [plotTraces](http://netpyne.org/netpyne.analysis.traces.html#netpyne.analysis.traces.plotTraces), [plotRaster](http://netpyne.org/netpyne.analysis.spikes.html#netpyne.analysis.spikes.plotRaster), [plotSpikeHist](http://netpyne.org/netpyne.analysis.spikes.html#netpyne.analysis.spikes.plotSpikeHist), and [plotConn](http://netpyne.org/netpyne.analysis.network.html#netpyne.analysis.network.plotConn) to see options for the analyses already generated.\n",
        "\n",
        "Another analysis which may be of interest is [plotSpikeStats](http://netpyne.org/netpyne.analysis.spikes.html#netpyne.analysis.spikes.plotSpikeStats)."
      ],
      "id": "X7_QFCVrKit2"
    },
    {
      "cell_type": "code",
      "metadata": {
        "id": "R6pWDcUfDTBA"
      },
      "source": [
        "sim.analysis.plotSpikeStats();"
      ],
      "id": "R6pWDcUfDTBA",
      "execution_count": null,
      "outputs": []
    }
  ]
}