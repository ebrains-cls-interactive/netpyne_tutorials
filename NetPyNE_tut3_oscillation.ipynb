{
 "cells": [
  {
   "cell_type": "code",
   "execution_count": null,
   "metadata": {
    "colab": {
     "base_uri": "https://localhost:8080/"
    },
    "executionInfo": {
     "elapsed": 9373,
     "status": "ok",
     "timestamp": 1622092945104,
     "user": {
      "displayName": "Samuel Bolland",
      "photoUrl": "https://lh3.googleusercontent.com/a-/AOh14GjhWpP7mf88kT980MPiR0spUh3By9DWIm5EYVUoaA=s64",
      "userId": "06928499349223853710"
     },
     "user_tz": -480
    },
    "id": "V0cRyhp8YWl2",
    "outputId": "7ce06ab2-358b-4748-c324-30d36ee2ab1c"
   },
   "outputs": [],
   "source": [
    "!pip install neuron\n",
    "!pip install netpyne\n",
    "import matplotlib\n",
    "%matplotlib inline"
   ]
  },
  {
   "cell_type": "code",
   "execution_count": null,
   "metadata": {
    "colab": {
     "base_uri": "https://localhost:8080/",
     "height": 1000
    },
    "executionInfo": {
     "elapsed": 5480,
     "status": "ok",
     "timestamp": 1621462283899,
     "user": {
      "displayName": "Salvador Dura-Bernal",
      "photoUrl": "",
      "userId": "10473966374056868820"
     },
     "user_tz": 240
    },
    "id": "f0P--qg5YUT6",
    "outputId": "a0d41a9f-ac05-434f-dc1f-2182ad919206"
   },
   "outputs": [],
   "source": [
    "%matplotlib inline\n",
    "from netpyne import specs, sim\n",
    "\n",
    "# Network parameters\n",
    "netParams = specs.NetParams()  # object of class NetParams to store the network parameters\n",
    "\n",
    "\n",
    "## Cell parameters\n",
    "netParams.cellParams['pyr'] = {\n",
    "    'secs': {\n",
    "        'soma': {\n",
    "            'geom': {\n",
    "                'diam': 18.8,   \n",
    "                'L': 18.8, \n",
    "                'Ra': 123.0},\n",
    "            'mechs': {\n",
    "                'hh': {\n",
    "                    'gnabar': 0.12, \n",
    "                    'gkbar': 0.036, \n",
    "                    'gl': 0.0003, \n",
    "                    'el': -70}\n",
    "            }\n",
    "        }\n",
    "    }\n",
    "}                \n",
    "\n",
    "\n",
    "## Population parameters\n",
    "netParams.popParams['E'] = {\n",
    "    'cellType': 'pyr', \n",
    "    'numCells': 20}\n",
    "\n",
    "netParams.popParams['I'] = {\n",
    "    'cellType': 'pyr', \n",
    "    'numCells': 20}\n",
    "\n",
    "\n",
    "## Synaptic mechanism parameters\n",
    "netParams.synMechParams['exc'] = {\n",
    "    'mod': 'Exp2Syn', \n",
    "    'tau1': 0.1, \n",
    "    'tau2': 5.0, \n",
    "    'e': 0}  # excitatory synaptic mechanism\n",
    "\n",
    "netParams.synMechParams['inh'] = {\n",
    "    'mod': 'Exp2Syn', \n",
    "    'tau1': 0.1, \n",
    "    'tau2': 5.0, \n",
    "    'e': -70}  # inhibitory synaptic mechanism\n",
    "\n",
    "\n",
    "# Stimulation parameters\n",
    "netParams.stimSourceParams['bkg'] = {\n",
    "    'type': 'NetStim', \n",
    "    'rate': 50, \n",
    "    'noise': 0.5}\n",
    "    \n",
    "netParams.stimTargetParams['bkg->E'] = {\n",
    "    'source': 'bkg', \n",
    "    'conds': {'pop': 'E'}, \n",
    "    'weight': 0.01, \n",
    "    'delay': 5, \n",
    "    'synMech': 'exc'}\n",
    "\n",
    "\n",
    "## Connectivity rules\n",
    "netParams.connParams['E->I'] = {    #  S -> I label\n",
    "    'preConds': {'pop': 'E'},       # conditions of presyn cells\n",
    "    'postConds': {'pop': 'I'},      # conditions of postsyn cells\n",
    "    'divergence': 5,               # probability of connection\n",
    "    'weight': 0.01,                 # synaptic weight\n",
    "    'delay': 5,                     # transmission delay (ms)\n",
    "    'synMech': 'exc'}               # synaptic mechanism\n",
    "\n",
    "netParams.connParams['I->E'] = {    #  I -> S label\n",
    "    'preConds': {'pop': 'I'},       # conditions of presyn cells\n",
    "    'postConds': {'pop': 'E'},      # conditions of postsyn cells\n",
    "    'probability': 0.7,               # probability of connection\n",
    "    'weight': 0.02,                 # synaptic weight\n",
    "    'delay': 5,                     # transmission delay (ms)\n",
    "    'synMech': 'inh'}               # synaptic mechanism\n",
    "\n",
    "\n",
    "# Simulation options\n",
    "simConfig = specs.SimConfig()       # object of class SimConfig to store simulation configuration\n",
    "\n",
    "simConfig.duration = 1*1e3          # Duration of the simulation, in ms\n",
    "simConfig.dt = 0.01                # Internal integration timestep to use\n",
    "simConfig.verbose = False           # Show detailed messages\n",
    "simConfig.recordTraces = {'V_soma':{'sec':'soma','loc':0.5,'var':'v'}}  # Dict with traces to record\n",
    "simConfig.recordStep = 0.1          # Step size in ms to save data (eg. V traces, LFP, etc)\n",
    "simConfig.filename = 'tut_oscillation'  # Set file output name\n",
    "simConfig.saveJson = False\n",
    "\n",
    "simConfig.recordLFP = [[50, 50, 50]]\n",
    "simConfig.recordDipole = True\n",
    "\n",
    "simConfig.analysis['plotTraces'] = {'include': [1], 'saveFig': True}  # Plot recorded traces for this list of cells\n",
    "simConfig.analysis['plotRaster'] = {'showFig': True}                  # Plot a raster\n",
    "simConfig.analysis['plotSpikeHist'] = {'include': ['E', 'I'], 'showFig': True}\n",
    "simConfig.analysis['plotRateSpectrogram'] = {'include': ['all']}\n",
    "\n",
    "\n",
    "# Create network and run simulation\n",
    "sim.createSimulateAnalyze(netParams = netParams, simConfig = simConfig)\n"
   ]
  },
  {
   "cell_type": "code",
   "execution_count": null,
   "metadata": {
    "colab": {
     "base_uri": "https://localhost:8080/",
     "height": 1000
    },
    "executionInfo": {
     "elapsed": 5480,
     "status": "ok",
     "timestamp": 1621462283899,
     "user": {
      "displayName": "Salvador Dura-Bernal",
      "photoUrl": "",
      "userId": "10473966374056868820"
     },
     "user_tz": 240
    },
    "id": "f0P--qg5YUT6",
    "outputId": "a0d41a9f-ac05-434f-dc1f-2182ad919206"
   },
   "outputs": [],
   "source": [
    "sim.plotting.plotLFPTimeSeries(electrodes=[0])"
   ]
  },
  {
   "cell_type": "code",
   "execution_count": null,
   "metadata": {
    "colab": {
     "base_uri": "https://localhost:8080/",
     "height": 1000
    },
    "executionInfo": {
     "elapsed": 5480,
     "status": "ok",
     "timestamp": 1621462283899,
     "user": {
      "displayName": "Salvador Dura-Bernal",
      "photoUrl": "",
      "userId": "10473966374056868820"
     },
     "user_tz": 240
    },
    "id": "f0P--qg5YUT6",
    "outputId": "a0d41a9f-ac05-434f-dc1f-2182ad919206"
   },
   "outputs": [],
   "source": [
    "sim.plotting.plotLFPSpectrogram(electrodes=[0])"
   ]
  },
  {
   "cell_type": "code",
   "execution_count": null,
   "metadata": {
    "colab": {
     "base_uri": "https://localhost:8080/",
     "height": 1000
    },
    "executionInfo": {
     "elapsed": 5480,
     "status": "ok",
     "timestamp": 1621462283899,
     "user": {
      "displayName": "Salvador Dura-Bernal",
      "photoUrl": "",
      "userId": "10473966374056868820"
     },
     "user_tz": 240
    },
    "id": "f0P--qg5YUT6",
    "outputId": "a0d41a9f-ac05-434f-dc1f-2182ad919206"
   },
   "outputs": [],
   "source": [
    "sim.analysis.plotDipole()"
   ]
  },
  {
   "cell_type": "code",
   "execution_count": null,
   "metadata": {
    "colab": {
     "base_uri": "https://localhost:8080/",
     "height": 1000
    },
    "executionInfo": {
     "elapsed": 5480,
     "status": "ok",
     "timestamp": 1621462283899,
     "user": {
      "displayName": "Salvador Dura-Bernal",
      "photoUrl": "",
      "userId": "10473966374056868820"
     },
     "user_tz": 240
    },
    "id": "f0P--qg5YUT6",
    "outputId": "a0d41a9f-ac05-434f-dc1f-2182ad919206"
   },
   "outputs": [],
   "source": [
    "sim.analysis.plotEEG()"
   ]
  },
  {
   "cell_type": "markdown",
   "metadata": {
    "id": "P8deeT59anO8"
   },
   "source": [
    "1) Start from netpyne tut_oscillation.py and run all jupyter notebook cells\n",
    "\n",
    "2) Modify parameters and rerun the model to get different oscillation frequencies\n",
    "\n",
    "Hint 1: try changing connection parameters (weights, probability, delay, synaptic time constants) and cell biophysics \n",
    "\n",
    "Hint 2: if you want the simulation to run faster comment out the `simConfig.recordLFP = [[50, 50, 50]]` and `simConfig.recordDipole = True` lines"
   ]
  }
 ],
 "metadata": {
  "colab": {
   "collapsed_sections": [],
   "name": "tut_netpyne_osc_start.ipynb",
   "provenance": []
  },
  "kernelspec": {
   "display_name": "EBRAINS_release_v0.1_202109",
   "language": "python",
   "name": "spack_python_kernel_release_20210930"
  },
  "language_info": {
   "codemirror_mode": {
    "name": "ipython",
    "version": 3
   },
   "file_extension": ".py",
   "mimetype": "text/x-python",
   "name": "python",
   "nbconvert_exporter": "python",
   "pygments_lexer": "ipython3",
   "version": "3.8.11"
  }
 },
 "nbformat": 4,
 "nbformat_minor": 4
}
